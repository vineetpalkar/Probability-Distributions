{
 "cells": [
  {
   "cell_type": "markdown",
   "metadata": {},
   "source": [
    "# Content:\n",
    "   * Methods\n",
    "   * Bernoulli distribution\n",
    "   * Binomial distribution\n",
    "   * Poisson distribution\n",
    "   * Negative Binomial distribution\n",
    "   * Normal distribution\n",
    "   * Exponential distribution"
   ]
  },
  {
   "cell_type": "markdown",
   "metadata": {},
   "source": [
    "## Methods\n",
    "- pmf/pdf=Probability mass/density function\n",
    "- cdf=Cumulative distribution function\n",
    "- stats=Mean, variance, skew, kurtosis\n",
    "- rvs=Random samples"
   ]
  },
  {
   "cell_type": "markdown",
   "metadata": {},
   "source": [
    "## Bernoulli distribution"
   ]
  },
  {
   "cell_type": "code",
   "execution_count": 1,
   "metadata": {},
   "outputs": [],
   "source": [
    "# Library\n",
    "import numpy as np\n",
    "from scipy.stats import bernoulli\n",
    "import matplotlib.pyplot as plt\n",
    "%matplotlib inline"
   ]
  },
  {
   "cell_type": "code",
   "execution_count": 2,
   "metadata": {},
   "outputs": [
    {
     "data": {
      "text/plain": [
       "array([0.7, 0.3])"
      ]
     },
     "execution_count": 2,
     "metadata": {},
     "output_type": "execute_result"
    }
   ],
   "source": [
    "p=0.3;\n",
    "x=[0,1]\n",
    "bernoulli.pmf(x,p)\n",
    "#The probability of getting a head i.e.(1=success) is 0.3."
   ]
  },
  {
   "cell_type": "code",
   "execution_count": 3,
   "metadata": {},
   "outputs": [
    {
     "data": {
      "text/plain": [
       "array([0.7, 1. ])"
      ]
     },
     "execution_count": 3,
     "metadata": {},
     "output_type": "execute_result"
    }
   ],
   "source": [
    "bernoulli.cdf(x,p)\n",
    "#0.7, 0.7+0.3= 1"
   ]
  },
  {
   "cell_type": "code",
   "execution_count": 4,
   "metadata": {},
   "outputs": [
    {
     "name": "stdout",
     "output_type": "stream",
     "text": [
      "0.3\n",
      "0.21\n",
      "0.8728715609439694\n",
      "-1.2380952380952381\n"
     ]
    }
   ],
   "source": [
    "mean, var, skew, kurt = bernoulli.stats(p, moments='mvsk') #mvsk=mean, var, skew,kurt\n",
    "print(mean)\n",
    "print(var)\n",
    "print(skew)\n",
    "print(kurt)"
   ]
  },
  {
   "cell_type": "code",
   "execution_count": 5,
   "metadata": {},
   "outputs": [
    {
     "data": {
      "text/plain": [
       "array([0, 0, 0, 0, 0, 0, 0, 0, 0, 1, 1, 0, 0, 0, 1])"
      ]
     },
     "execution_count": 5,
     "metadata": {},
     "output_type": "execute_result"
    }
   ],
   "source": [
    "bernoulli.rvs(p,size=15)\n",
    "#tossing a coin 15 times while probability of head is 0.3"
   ]
  },
  {
   "cell_type": "code",
   "execution_count": 6,
   "metadata": {},
   "outputs": [
    {
     "data": {
      "image/png": "[encoded data removed]",
      "text/plain": [
       "<Figure size 432x288 with 1 Axes>"
      ]
     },
     "metadata": {
      "needs_background": "light"
     },
     "output_type": "display_data"
    }
   ],
   "source": [
    "plt.plot(x,bernoulli.pmf(x,0.5),ls=\"\",marker=\"s\",color='g') #ls=linespace g=green\n",
    "plt.xlabel('x')\n",
    "plt.ylabel('Prob')\n",
    "plt.title('PMF of Bernoulli')\n",
    "plt.show()\n",
    "\n",
    "#The probability of getting a head(1) and a tail(0) is 0.5"
   ]
  },
  {
   "cell_type": "code",
   "execution_count": 7,
   "metadata": {},
   "outputs": [
    {
     "data": {
      "image/png": "[encoded data removed]",
      "text/plain": [
       "<Figure size 432x288 with 1 Axes>"
      ]
     },
     "metadata": {
      "needs_background": "light"
     },
     "output_type": "display_data"
    }
   ],
   "source": [
    "# generate bernoulli\n",
    "data_bern = bernoulli.rvs(size=1000, p=0.4)\n",
    "plt.hist(data_bern,color='r') # add color='green',bins=20\n",
    "plt.xlabel('x')\n",
    "plt.ylabel('Freq')\n",
    "plt.title('histogram')\n",
    "plt.show()\n",
    "#close to 400 times success was seen while 600 times failure was observed."
   ]
  },
  {
   "cell_type": "markdown",
   "metadata": {},
   "source": [
    "# Binomial distribution"
   ]
  },
  {
   "cell_type": "code",
   "execution_count": 8,
   "metadata": {},
   "outputs": [],
   "source": [
    "from scipy.stats import binom"
   ]
  },
  {
   "cell_type": "code",
   "execution_count": 9,
   "metadata": {},
   "outputs": [
    {
     "data": {
      "text/plain": [
       "array([ 0,  1,  2,  3,  4,  5,  6,  7,  8,  9, 10])"
      ]
     },
     "execution_count": 9,
     "metadata": {},
     "output_type": "execute_result"
    }
   ],
   "source": [
    "n, p = 10, 0.3\n",
    "x=np.arange(11)\n",
    "x"
   ]
  },
  {
   "cell_type": "code",
   "execution_count": 10,
   "metadata": {},
   "outputs": [
    {
     "data": {
      "text/plain": [
       "array([2.82475249e-02, 1.21060821e-01, 2.33474440e-01, 2.66827932e-01,\n",
       "       2.00120949e-01, 1.02919345e-01, 3.67569090e-02, 9.00169200e-03,\n",
       "       1.44670050e-03, 1.37781000e-04, 5.90490000e-06])"
      ]
     },
     "execution_count": 10,
     "metadata": {},
     "output_type": "execute_result"
    }
   ],
   "source": [
    "binom.pmf(x,n,p)\n",
    "#The probability at number 2 & 3 is greater."
   ]
  },
  {
   "cell_type": "code",
   "execution_count": 11,
   "metadata": {},
   "outputs": [
    {
     "data": {
      "text/plain": [
       "array([0.02824752, 0.14930835, 0.38278279, 0.64961072, 0.84973167,\n",
       "       0.95265101, 0.98940792, 0.99840961, 0.99985631, 0.9999941 ,\n",
       "       1.        ])"
      ]
     },
     "execution_count": 11,
     "metadata": {},
     "output_type": "execute_result"
    }
   ],
   "source": [
    "binom.cdf(x,n,p)"
   ]
  },
  {
   "cell_type": "code",
   "execution_count": 12,
   "metadata": {},
   "outputs": [
    {
     "name": "stdout",
     "output_type": "stream",
     "text": [
      "3.0\n",
      "2.0999999999999996\n",
      "0.2760262237369417\n",
      "-0.12380952380952373\n"
     ]
    }
   ],
   "source": [
    "mean, var, skew, kurt = binom.stats(n, p, moments='mvsk')\n",
    "print(mean)\n",
    "print(var)\n",
    "print(skew)\n",
    "print(kurt)"
   ]
  },
  {
   "cell_type": "code",
   "execution_count": 13,
   "metadata": {},
   "outputs": [
    {
     "data": {
      "text/plain": [
       "array([5, 6, 2, 2, 4, 4, 3, 1, 2, 3, 4, 2, 3, 3, 4])"
      ]
     },
     "execution_count": 13,
     "metadata": {},
     "output_type": "execute_result"
    }
   ],
   "source": [
    "binom.rvs(n,p,size=15)\n",
    "#tossing a coin n=10 times which has prob of getting head 0.3. Repeating this experiment 15 times over and \n",
    "#checking how many times we got head in a certain experiment. \n",
    "#in 1st O/P there was 1 head in 10 coin tosses, while 3 heads in 10 coin tosses and so on"
   ]
  },
  {
   "cell_type": "code",
   "execution_count": 14,
   "metadata": {},
   "outputs": [
    {
     "data": {
      "image/png": "[encoded data removed]",
      "text/plain": [
       "<Figure size 432x288 with 1 Axes>"
      ]
     },
     "metadata": {
      "needs_background": "light"
     },
     "output_type": "display_data"
    }
   ],
   "source": [
    "plt.plot(x,binom.pmf(x,n,p),\"--\",marker='s') \n",
    "plt.xlabel('x')\n",
    "plt.ylabel('Prob')\n",
    "plt.title('PMF of Binomial')\n",
    "plt.show()\n",
    "\n",
    "#in the plot, maximum observations are seen around 3 heads"
   ]
  },
  {
   "cell_type": "code",
   "execution_count": 15,
   "metadata": {},
   "outputs": [
    {
     "data": {
      "image/png": "[encoded data removed]",
      "text/plain": [
       "<Figure size 432x288 with 1 Axes>"
      ]
     },
     "metadata": {
      "needs_background": "light"
     },
     "output_type": "display_data"
    }
   ],
   "source": [
    "data_binom = binom.rvs(size=10000, n=10,p=0.3)\n",
    "plt.hist(data_binom) # add color='green',bins=20\n",
    "plt.xlabel('x')\n",
    "plt.ylabel('Freq')\n",
    "plt.title('histogram')\n",
    "plt.show()"
   ]
  },
  {
   "cell_type": "markdown",
   "metadata": {},
   "source": [
    "## Poisson distribution"
   ]
  },
  {
   "cell_type": "code",
   "execution_count": 9,
   "metadata": {},
   "outputs": [],
   "source": [
    "from scipy.stats import poisson"
   ]
  },
  {
   "cell_type": "code",
   "execution_count": 10,
   "metadata": {},
   "outputs": [
    {
     "data": {
      "text/plain": [
       "array([ 0,  1,  2,  3,  4,  5,  6,  7,  8,  9, 10, 11, 12, 13, 14, 15, 16,\n",
       "       17, 18, 19])"
      ]
     },
     "execution_count": 10,
     "metadata": {},
     "output_type": "execute_result"
    }
   ],
   "source": [
    "rate=2.5  #lambda\n",
    "x=np.arange(20)\n",
    "x\n",
    "#2.5 misprints per book. No.of accidents on a particular road per day"
   ]
  },
  {
   "cell_type": "code",
   "execution_count": 11,
   "metadata": {},
   "outputs": [
    {
     "data": {
      "text/plain": [
       "array([8.20849986e-02, 2.05212497e-01, 2.56515621e-01, 2.13763017e-01,\n",
       "       1.33601886e-01, 6.68009429e-02, 2.78337262e-02, 9.94061650e-03,\n",
       "       3.10644266e-03, 8.62900738e-04, 2.15725184e-04, 4.90284510e-05,\n",
       "       1.02142606e-05, 1.96428089e-06, 3.50764445e-07, 5.84607408e-08,\n",
       "       9.13449075e-09, 1.34330746e-09, 1.86570481e-10, 2.45487475e-11])"
      ]
     },
     "execution_count": 11,
     "metadata": {},
     "output_type": "execute_result"
    }
   ],
   "source": [
    "poisson.pmf(x,rate)\n",
    "#Here as lambda=2.5 the values at 2nd,3rd position are greater than other values.\n"
   ]
  },
  {
   "cell_type": "code",
   "execution_count": 12,
   "metadata": {},
   "outputs": [
    {
     "data": {
      "text/plain": [
       "array([0.082085  , 0.2872975 , 0.54381312, 0.75757613, 0.89117802,\n",
       "       0.95797896, 0.98581269, 0.9957533 , 0.99885975, 0.99972265,\n",
       "       0.99993837, 0.9999874 , 0.99999762, 0.99999958, 0.99999993,\n",
       "       0.99999999, 1.        , 1.        , 1.        , 1.        ])"
      ]
     },
     "execution_count": 12,
     "metadata": {},
     "output_type": "execute_result"
    }
   ],
   "source": [
    "poisson.cdf(x,rate)"
   ]
  },
  {
   "cell_type": "code",
   "execution_count": 13,
   "metadata": {},
   "outputs": [
    {
     "name": "stdout",
     "output_type": "stream",
     "text": [
      "2.5\n",
      "2.5\n",
      "0.6324555320336759\n",
      "0.4\n"
     ]
    }
   ],
   "source": [
    "mean, var, skew, kurt = poisson.stats(rate, moments='mvsk')\n",
    "print(mean)\n",
    "print(var)\n",
    "print(skew)\n",
    "print(kurt)"
   ]
  },
  {
   "cell_type": "code",
   "execution_count": 34,
   "metadata": {},
   "outputs": [
    {
     "data": {
      "text/plain": [
       "array([0, 3, 1, 0, 2, 5, 4, 0, 4, 3, 1, 1, 3, 2, 1, 3, 2, 3, 4, 2])"
      ]
     },
     "execution_count": 34,
     "metadata": {},
     "output_type": "execute_result"
    }
   ],
   "source": [
    "poisson.rvs(mu=rate,size=20)\n",
    "#In a book where avg no. of misprints is 2.5(lambda), following are the no. of misprints for 20 books"
   ]
  },
  {
   "cell_type": "code",
   "execution_count": 14,
   "metadata": {},
   "outputs": [
    {
     "data": {
      "image/png": "[encoded data removed]",
      "text/plain": [
       "<Figure size 432x288 with 1 Axes>"
      ]
     },
     "metadata": {
      "needs_background": "light"
     },
     "output_type": "display_data"
    }
   ],
   "source": [
    "plt.plot(x,poisson.pmf(x,rate),\"--\",marker='s')\n",
    "plt.xlabel('x')\n",
    "plt.ylabel('Prob')\n",
    "plt.title('PMF of Poisson')\n",
    "plt.show()"
   ]
  },
  {
   "cell_type": "code",
   "execution_count": 16,
   "metadata": {},
   "outputs": [
    {
     "data": {
      "image/png": "[encoded data removed]",
      "text/plain": [
       "<Figure size 432x288 with 1 Axes>"
      ]
     },
     "metadata": {
      "needs_background": "light"
     },
     "output_type": "display_data"
    }
   ],
   "source": [
    "data_pois = poisson.rvs(rate,size=10000)   #try for less size, it'll be less accurate. after increasing the sizes, the graph shows more accurate results\n",
    "plt.hist(data_pois) # add color='green',bins=20\n",
    "plt.xlabel('x')\n",
    "plt.ylabel('Freq')\n",
    "plt.title('histogram')\n",
    "plt.show()"
   ]
  },
  {
   "cell_type": "markdown",
   "metadata": {},
   "source": [
    "## Negative Binomial distribution"
   ]
  },
  {
   "cell_type": "markdown",
   "metadata": {},
   "source": [
    "## Its your turn...!!!"
   ]
  },
  {
   "cell_type": "code",
   "execution_count": 20,
   "metadata": {},
   "outputs": [],
   "source": [
    "from scipy.stats import nbinom"
   ]
  },
  {
   "cell_type": "code",
   "execution_count": 55,
   "metadata": {},
   "outputs": [],
   "source": [
    "k,p = 2, 0.3   #k is no. of desired successes. e.g. 2 wickets in 6 balls with prob os success 0.5"
   ]
  },
  {
   "cell_type": "code",
   "execution_count": 56,
   "metadata": {},
   "outputs": [
    {
     "data": {
      "text/plain": [
       "array([ 0,  1,  2,  3,  4,  5,  6,  7,  8,  9, 10, 11, 12, 13, 14, 15, 16,\n",
       "       17, 18, 19])"
      ]
     },
     "execution_count": 56,
     "metadata": {},
     "output_type": "execute_result"
    }
   ],
   "source": [
    "x=np.arange(20)\n",
    "x\n",
    "#Repeating the experiment 20 times"
   ]
  },
  {
   "cell_type": "code",
   "execution_count": 57,
   "metadata": {},
   "outputs": [
    {
     "data": {
      "text/plain": [
       "array([0.09      , 0.126     , 0.1323    , 0.12348   , 0.108045  ,\n",
       "       0.0907578 , 0.07411887, 0.0592951 , 0.04669489, 0.03631825,\n",
       "       0.02796505, 0.02135513, 0.01619431, 0.01220802, 0.00915601,\n",
       "       0.00683649, 0.00508464, 0.00376861, 0.00278459, 0.0020518 ])"
      ]
     },
     "execution_count": 57,
     "metadata": {},
     "output_type": "execute_result"
    }
   ],
   "source": [
    "nbinom.pmf(x,k,p)"
   ]
  },
  {
   "cell_type": "code",
   "execution_count": 58,
   "metadata": {
    "scrolled": true
   },
   "outputs": [
    {
     "data": {
      "text/plain": [
       "array([0.09      , 0.216     , 0.3483    , 0.47178   , 0.579825  ,\n",
       "       0.6705828 , 0.74470167, 0.80399677, 0.85069165, 0.8870099 ,\n",
       "       0.91497495, 0.93633008, 0.95252438, 0.9647324 , 0.97388841,\n",
       "       0.9807249 , 0.98580954, 0.98957815, 0.99236274, 0.99441454])"
      ]
     },
     "execution_count": 58,
     "metadata": {},
     "output_type": "execute_result"
    }
   ],
   "source": [
    "nbinom.cdf(x,k,p)"
   ]
  },
  {
   "cell_type": "code",
   "execution_count": 59,
   "metadata": {},
   "outputs": [
    {
     "name": "stdout",
     "output_type": "stream",
     "text": [
      "4.666666666666667\n",
      "15.555555555555557\n",
      "1.4367622330384782\n",
      "3.064285714285714\n"
     ]
    }
   ],
   "source": [
    "mean, var, skew, kurt = nbinom.stats(k, p, moments='mvsk')\n",
    "print(mean)\n",
    "print(var)\n",
    "print(skew)\n",
    "print(kurt)"
   ]
  },
  {
   "cell_type": "code",
   "execution_count": 75,
   "metadata": {},
   "outputs": [
    {
     "data": {
      "text/plain": [
       "array([ 1,  4,  5,  0,  2,  1,  7,  5, 18,  2,  4, 10,  5,  7,  2])"
      ]
     },
     "execution_count": 75,
     "metadata": {},
     "output_type": "execute_result"
    }
   ],
   "source": [
    "nbinom.rvs(k,p,size=15)\n",
    "#For 2 successes with prob 0.3, the first experiment took 1 trials.\n",
    "#The O/P is the no. of failures before 2 successes\n",
    "##in the 4th trial, it is seen that there were no failures and consecutive successes were seen"
   ]
  },
  {
   "cell_type": "code",
   "execution_count": 73,
   "metadata": {},
   "outputs": [
    {
     "data": {
      "image/png": "[encoded data removed]",
      "text/plain": [
       "<Figure size 432x288 with 1 Axes>"
      ]
     },
     "metadata": {
      "needs_background": "light"
     },
     "output_type": "display_data"
    }
   ],
   "source": [
    "plt.plot(x,nbinom.pmf(x,2,0.4),\"--\",marker='s')  #try for k=5,10,.. & p=0.5,0.8,..\n",
    "plt.xlabel('x')\n",
    "plt.ylabel('Prob')\n",
    "plt.title('PMF of Negative Binomial')\n",
    "plt.show()"
   ]
  },
  {
   "cell_type": "code",
   "execution_count": 70,
   "metadata": {},
   "outputs": [
    {
     "data": {
      "image/png": "[encoded data removed]",
      "text/plain": [
       "<Figure size 432x288 with 1 Axes>"
      ]
     },
     "metadata": {
      "needs_background": "light"
     },
     "output_type": "display_data"
    }
   ],
   "source": [
    "data_nbinom=nbinom.rvs(k,p,size=15)\n",
    "plt.hist(data_nbinom) # add color='green',bins=20\n",
    "plt.xlabel('x')\n",
    "plt.ylabel('Freq')\n",
    "plt.title('histogram')\n",
    "plt.show()"
   ]
  },
  {
   "cell_type": "code",
   "execution_count": null,
   "metadata": {},
   "outputs": [],
   "source": []
  },
  {
   "cell_type": "markdown",
   "metadata": {},
   "source": [
    "## Normal distribution"
   ]
  },
  {
   "cell_type": "code",
   "execution_count": 43,
   "metadata": {},
   "outputs": [],
   "source": [
    "from scipy.stats import norm"
   ]
  },
  {
   "cell_type": "code",
   "execution_count": 44,
   "metadata": {},
   "outputs": [
    {
     "data": {
      "text/plain": [
       "array([-3.        , -2.93939394, -2.87878788, -2.81818182, -2.75757576,\n",
       "       -2.6969697 , -2.63636364, -2.57575758, -2.51515152, -2.45454545,\n",
       "       -2.39393939, -2.33333333, -2.27272727, -2.21212121, -2.15151515,\n",
       "       -2.09090909, -2.03030303, -1.96969697, -1.90909091, -1.84848485,\n",
       "       -1.78787879, -1.72727273, -1.66666667, -1.60606061, -1.54545455,\n",
       "       -1.48484848, -1.42424242, -1.36363636, -1.3030303 , -1.24242424,\n",
       "       -1.18181818, -1.12121212, -1.06060606, -1.        , -0.93939394,\n",
       "       -0.87878788, -0.81818182, -0.75757576, -0.6969697 , -0.63636364,\n",
       "       -0.57575758, -0.51515152, -0.45454545, -0.39393939, -0.33333333,\n",
       "       -0.27272727, -0.21212121, -0.15151515, -0.09090909, -0.03030303,\n",
       "        0.03030303,  0.09090909,  0.15151515,  0.21212121,  0.27272727,\n",
       "        0.33333333,  0.39393939,  0.45454545,  0.51515152,  0.57575758,\n",
       "        0.63636364,  0.6969697 ,  0.75757576,  0.81818182,  0.87878788,\n",
       "        0.93939394,  1.        ,  1.06060606,  1.12121212,  1.18181818,\n",
       "        1.24242424,  1.3030303 ,  1.36363636,  1.42424242,  1.48484848,\n",
       "        1.54545455,  1.60606061,  1.66666667,  1.72727273,  1.78787879,\n",
       "        1.84848485,  1.90909091,  1.96969697,  2.03030303,  2.09090909,\n",
       "        2.15151515,  2.21212121,  2.27272727,  2.33333333,  2.39393939,\n",
       "        2.45454545,  2.51515152,  2.57575758,  2.63636364,  2.6969697 ,\n",
       "        2.75757576,  2.81818182,  2.87878788,  2.93939394,  3.        ])"
      ]
     },
     "execution_count": 44,
     "metadata": {},
     "output_type": "execute_result"
    }
   ],
   "source": [
    "x=np.linspace(-3,3,100)\n",
    "x"
   ]
  },
  {
   "cell_type": "code",
   "execution_count": 45,
   "metadata": {},
   "outputs": [
    {
     "data": {
      "text/plain": [
       "array([0.00443185, 0.00530579, 0.00632878, 0.00752133, 0.00890582,\n",
       "       0.0105065 , 0.01234943, 0.01446241, 0.01687483, 0.01961746,\n",
       "       0.02272223, 0.02622189, 0.03014961, 0.03453857, 0.03942137,\n",
       "       0.0448295 , 0.05079264, 0.05733801, 0.06448952, 0.07226707,\n",
       "       0.08068571, 0.08975477, 0.09947714, 0.10984842, 0.12085626,\n",
       "       0.13247967, 0.14468855, 0.15744319, 0.17069405, 0.18438164,\n",
       "       0.1984366 , 0.21277993, 0.22732351, 0.24197072, 0.2566174 ,\n",
       "       0.27115285, 0.28546117, 0.29942268, 0.31291556, 0.3258175 ,\n",
       "       0.33800759, 0.34936814, 0.35978656, 0.36915722, 0.37738323,\n",
       "       0.38437808, 0.3900672 , 0.39438923, 0.39729716, 0.39875915,\n",
       "       0.39875915, 0.39729716, 0.39438923, 0.3900672 , 0.38437808,\n",
       "       0.37738323, 0.36915722, 0.35978656, 0.34936814, 0.33800759,\n",
       "       0.3258175 , 0.31291556, 0.29942268, 0.28546117, 0.27115285,\n",
       "       0.2566174 , 0.24197072, 0.22732351, 0.21277993, 0.1984366 ,\n",
       "       0.18438164, 0.17069405, 0.15744319, 0.14468855, 0.13247967,\n",
       "       0.12085626, 0.10984842, 0.09947714, 0.08975477, 0.08068571,\n",
       "       0.07226707, 0.06448952, 0.05733801, 0.05079264, 0.0448295 ,\n",
       "       0.03942137, 0.03453857, 0.03014961, 0.02622189, 0.02272223,\n",
       "       0.01961746, 0.01687483, 0.01446241, 0.01234943, 0.0105065 ,\n",
       "       0.00890582, 0.00752133, 0.00632878, 0.00530579, 0.00443185])"
      ]
     },
     "execution_count": 45,
     "metadata": {},
     "output_type": "execute_result"
    }
   ],
   "source": [
    "norm.pdf(x) #loc=2,scale=0.5"
   ]
  },
  {
   "cell_type": "code",
   "execution_count": 46,
   "metadata": {},
   "outputs": [
    {
     "data": {
      "text/plain": [
       "array([0.0013499 , 0.00164427, 0.00199603, 0.00241482, 0.00291159,\n",
       "       0.00349868, 0.00418999, 0.00500104, 0.00594906, 0.00705314,\n",
       "       0.00833425, 0.00981533, 0.01152131, 0.01347915, 0.01571778,\n",
       "       0.01826811, 0.02116287, 0.02443656, 0.02812518, 0.03226612,\n",
       "       0.03689778, 0.04205935, 0.04779035, 0.0541303 , 0.06111818,\n",
       "       0.06879198, 0.07718815, 0.08634102, 0.09628221, 0.10704004,\n",
       "       0.11863893, 0.13109879, 0.14443448, 0.15865525, 0.17376426,\n",
       "       0.18975815, 0.20662669, 0.2243525 , 0.24291088, 0.26226972,\n",
       "       0.28238953, 0.30322357, 0.32471814, 0.34681289, 0.36944134,\n",
       "       0.39253143, 0.41600624, 0.43978468, 0.46378241, 0.48791269,\n",
       "       0.51208731, 0.53621759, 0.56021532, 0.58399376, 0.60746857,\n",
       "       0.63055866, 0.65318711, 0.67528186, 0.69677643, 0.71761047,\n",
       "       0.73773028, 0.75708912, 0.7756475 , 0.79337331, 0.81024185,\n",
       "       0.82623574, 0.84134475, 0.85556552, 0.86890121, 0.88136107,\n",
       "       0.89295996, 0.90371779, 0.91365898, 0.92281185, 0.93120802,\n",
       "       0.93888182, 0.9458697 , 0.95220965, 0.95794065, 0.96310222,\n",
       "       0.96773388, 0.97187482, 0.97556344, 0.97883713, 0.98173189,\n",
       "       0.98428222, 0.98652085, 0.98847869, 0.99018467, 0.99166575,\n",
       "       0.99294686, 0.99405094, 0.99499896, 0.99581001, 0.99650132,\n",
       "       0.99708841, 0.99758518, 0.99800397, 0.99835573, 0.9986501 ])"
      ]
     },
     "execution_count": 46,
     "metadata": {},
     "output_type": "execute_result"
    }
   ],
   "source": [
    "norm.cdf(x)"
   ]
  },
  {
   "cell_type": "code",
   "execution_count": 48,
   "metadata": {},
   "outputs": [
    {
     "name": "stdout",
     "output_type": "stream",
     "text": [
      "2.0\n",
      "2.25\n",
      "0.0\n",
      "0.0\n"
     ]
    }
   ],
   "source": [
    "mean, var, skew, kurt = norm.stats(loc=2,scale=1.5, moments='mvsk')\n",
    "print(mean)\n",
    "print(var)\n",
    "print(skew)\n",
    "print(kurt)"
   ]
  },
  {
   "cell_type": "code",
   "execution_count": 49,
   "metadata": {},
   "outputs": [
    {
     "data": {
      "text/plain": [
       "array([ 0.91979347, -0.45699917,  0.29566721,  0.24649214, -1.77638272,\n",
       "       -0.08879972,  1.25903449,  1.13030007,  0.3698982 , -1.12232297])"
      ]
     },
     "execution_count": 49,
     "metadata": {},
     "output_type": "execute_result"
    }
   ],
   "source": [
    "norm.rvs(size=10) #loc=2,scale=3"
   ]
  },
  {
   "cell_type": "code",
   "execution_count": 50,
   "metadata": {},
   "outputs": [
    {
     "data": {
      "image/png": "[encoded data removed]",
      "text/plain": [
       "<Figure size 432x288 with 1 Axes>"
      ]
     },
     "metadata": {
      "needs_background": "light"
     },
     "output_type": "display_data"
    }
   ],
   "source": [
    "plt.plot(x,norm.pdf(x,loc=0,scale=1))#,\"o-\",marker='s')\n",
    "plt.xlabel('x')\n",
    "plt.ylabel('Prob')\n",
    "plt.title('PDF of Normal')\n",
    "plt.show()"
   ]
  },
  {
   "cell_type": "code",
   "execution_count": 60,
   "metadata": {},
   "outputs": [
    {
     "data": {
      "image/png": "[encoded data removed]",
      "text/plain": [
       "<Figure size 432x288 with 1 Axes>"
      ]
     },
     "metadata": {
      "needs_background": "light"
     },
     "output_type": "display_data"
    }
   ],
   "source": [
    "data_norm = norm.rvs(size=10000)\n",
    "plt.hist(data_norm,bins=20) # add color='green',bins=20\n",
    "plt.xlabel('x')\n",
    "plt.ylabel('Freq')\n",
    "plt.title('histogram')\n",
    "plt.show()"
   ]
  },
  {
   "cell_type": "markdown",
   "metadata": {},
   "source": [
    "## Exponential distribution"
   ]
  },
  {
   "cell_type": "markdown",
   "metadata": {},
   "source": [
    "## Its your turn...!!!"
   ]
  },
  {
   "cell_type": "markdown",
   "metadata": {},
   "source": [
    "### Refer https://docs.scipy.org/doc/scipy/reference/stats.html for more probability distributions"
   ]
  },
  {
   "cell_type": "code",
   "execution_count": 19,
   "metadata": {},
   "outputs": [],
   "source": [
    "from scipy.stats import expon"
   ]
  },
  {
   "cell_type": "code",
   "execution_count": 32,
   "metadata": {},
   "outputs": [
    {
     "data": {
      "text/plain": [
       "array([0.        , 0.06060606, 0.12121212, 0.18181818, 0.24242424,\n",
       "       0.3030303 , 0.36363636, 0.42424242, 0.48484848, 0.54545455,\n",
       "       0.60606061, 0.66666667, 0.72727273, 0.78787879, 0.84848485,\n",
       "       0.90909091, 0.96969697, 1.03030303, 1.09090909, 1.15151515,\n",
       "       1.21212121, 1.27272727, 1.33333333, 1.39393939, 1.45454545,\n",
       "       1.51515152, 1.57575758, 1.63636364, 1.6969697 , 1.75757576,\n",
       "       1.81818182, 1.87878788, 1.93939394, 2.        , 2.06060606,\n",
       "       2.12121212, 2.18181818, 2.24242424, 2.3030303 , 2.36363636,\n",
       "       2.42424242, 2.48484848, 2.54545455, 2.60606061, 2.66666667,\n",
       "       2.72727273, 2.78787879, 2.84848485, 2.90909091, 2.96969697,\n",
       "       3.03030303, 3.09090909, 3.15151515, 3.21212121, 3.27272727,\n",
       "       3.33333333, 3.39393939, 3.45454545, 3.51515152, 3.57575758,\n",
       "       3.63636364, 3.6969697 , 3.75757576, 3.81818182, 3.87878788,\n",
       "       3.93939394, 4.        , 4.06060606, 4.12121212, 4.18181818,\n",
       "       4.24242424, 4.3030303 , 4.36363636, 4.42424242, 4.48484848,\n",
       "       4.54545455, 4.60606061, 4.66666667, 4.72727273, 4.78787879,\n",
       "       4.84848485, 4.90909091, 4.96969697, 5.03030303, 5.09090909,\n",
       "       5.15151515, 5.21212121, 5.27272727, 5.33333333, 5.39393939,\n",
       "       5.45454545, 5.51515152, 5.57575758, 5.63636364, 5.6969697 ,\n",
       "       5.75757576, 5.81818182, 5.87878788, 5.93939394, 6.        ])"
      ]
     },
     "execution_count": 32,
     "metadata": {},
     "output_type": "execute_result"
    }
   ],
   "source": [
    "x= x=np.linspace(0,6,100)\n",
    "x"
   ]
  },
  {
   "cell_type": "code",
   "execution_count": 33,
   "metadata": {},
   "outputs": [
    {
     "data": {
      "text/plain": [
       "array([1.        , 0.94119394, 0.88584603, 0.83375292, 0.78472319,\n",
       "       0.73857671, 0.69514393, 0.65426525, 0.61579049, 0.57957828,\n",
       "       0.54549556, 0.51341712, 0.48322508, 0.45480852, 0.42806302,\n",
       "       0.40289032, 0.37919793, 0.35689879, 0.33591098, 0.31615738,\n",
       "       0.29756541, 0.28006676, 0.26359714, 0.24809603, 0.23350648,\n",
       "       0.21977488, 0.20685079, 0.19468671, 0.18323795, 0.17246245,\n",
       "       0.16232061, 0.15277518, 0.14379107, 0.13533528, 0.12737675,\n",
       "       0.11988622, 0.11283619, 0.10620074, 0.09995549, 0.0940775 ,\n",
       "       0.08854517, 0.08333818, 0.07843739, 0.0738248 , 0.06948345,\n",
       "       0.0653974 , 0.06155164, 0.05793203, 0.05452528, 0.05131886,\n",
       "       0.048301  , 0.04546061, 0.04278725, 0.0402711 , 0.03790291,\n",
       "       0.03567399, 0.03357615, 0.03160167, 0.0297433 , 0.02799421,\n",
       "       0.02634798, 0.02479856, 0.02334025, 0.02196771, 0.02067587,\n",
       "       0.01946001, 0.01831564, 0.01723857, 0.01622484, 0.01527072,\n",
       "       0.01437271, 0.0135275 , 0.01273201, 0.01198329, 0.0112786 ,\n",
       "       0.01061535, 0.0099911 , 0.00940356, 0.00885058, 0.00833011,\n",
       "       0.00784025, 0.00737919, 0.00694525, 0.00653683, 0.00615242,\n",
       "       0.00579062, 0.0054501 , 0.0051296 , 0.00482795, 0.00454404,\n",
       "       0.00427682, 0.00402532, 0.0037886 , 0.00356581, 0.00335612,\n",
       "       0.00315876, 0.00297301, 0.00279817, 0.00263363, 0.00247875])"
      ]
     },
     "execution_count": 33,
     "metadata": {},
     "output_type": "execute_result"
    }
   ],
   "source": [
    "expon.pdf(x)"
   ]
  },
  {
   "cell_type": "code",
   "execution_count": 34,
   "metadata": {},
   "outputs": [
    {
     "data": {
      "text/plain": [
       "array([0.        , 0.05880606, 0.11415397, 0.16624708, 0.21527681,\n",
       "       0.26142329, 0.30485607, 0.34573475, 0.38420951, 0.42042172,\n",
       "       0.45450444, 0.48658288, 0.51677492, 0.54519148, 0.57193698,\n",
       "       0.59710968, 0.62080207, 0.64310121, 0.66408902, 0.68384262,\n",
       "       0.70243459, 0.71993324, 0.73640286, 0.75190397, 0.76649352,\n",
       "       0.78022512, 0.79314921, 0.80531329, 0.81676205, 0.82753755,\n",
       "       0.83767939, 0.84722482, 0.85620893, 0.86466472, 0.87262325,\n",
       "       0.88011378, 0.88716381, 0.89379926, 0.90004451, 0.9059225 ,\n",
       "       0.91145483, 0.91666182, 0.92156261, 0.9261752 , 0.93051655,\n",
       "       0.9346026 , 0.93844836, 0.94206797, 0.94547472, 0.94868114,\n",
       "       0.951699  , 0.95453939, 0.95721275, 0.9597289 , 0.96209709,\n",
       "       0.96432601, 0.96642385, 0.96839833, 0.9702567 , 0.97200579,\n",
       "       0.97365202, 0.97520144, 0.97665975, 0.97803229, 0.97932413,\n",
       "       0.98053999, 0.98168436, 0.98276143, 0.98377516, 0.98472928,\n",
       "       0.98562729, 0.9864725 , 0.98726799, 0.98801671, 0.9887214 ,\n",
       "       0.98938465, 0.9900089 , 0.99059644, 0.99114942, 0.99166989,\n",
       "       0.99215975, 0.99262081, 0.99305475, 0.99346317, 0.99384758,\n",
       "       0.99420938, 0.9945499 , 0.9948704 , 0.99517205, 0.99545596,\n",
       "       0.99572318, 0.99597468, 0.9962114 , 0.99643419, 0.99664388,\n",
       "       0.99684124, 0.99702699, 0.99720183, 0.99736637, 0.99752125])"
      ]
     },
     "execution_count": 34,
     "metadata": {},
     "output_type": "execute_result"
    }
   ],
   "source": [
    "expon.cdf(x)"
   ]
  },
  {
   "cell_type": "code",
   "execution_count": 35,
   "metadata": {},
   "outputs": [
    {
     "name": "stdout",
     "output_type": "stream",
     "text": [
      "3.5\n",
      "2.25\n",
      "2.0\n",
      "6.0\n"
     ]
    }
   ],
   "source": [
    "mean, var, skew, kurt = expon.stats(loc=2,scale=1.5, moments='mvsk')\n",
    "print(mean)\n",
    "print(var)\n",
    "print(skew)\n",
    "print(kurt)"
   ]
  },
  {
   "cell_type": "code",
   "execution_count": 36,
   "metadata": {},
   "outputs": [
    {
     "data": {
      "text/plain": [
       "array([0.30490358, 2.16979051, 0.28932045, 0.86443856, 0.44999286,\n",
       "       0.20041074, 1.33425487, 2.05250826, 1.23831499, 0.02205959])"
      ]
     },
     "execution_count": 36,
     "metadata": {},
     "output_type": "execute_result"
    }
   ],
   "source": [
    "expon.rvs(size=10)"
   ]
  },
  {
   "cell_type": "code",
   "execution_count": 37,
   "metadata": {},
   "outputs": [
    {
     "data": {
      "image/png": "[encoded data removed]",
      "text/plain": [
       "<Figure size 432x288 with 1 Axes>"
      ]
     },
     "metadata": {
      "needs_background": "light"
     },
     "output_type": "display_data"
    }
   ],
   "source": [
    "plt.plot(x,expon.pdf(x,loc=0,scale=1))#,\"o-\",marker='s')\n",
    "plt.xlabel('x')\n",
    "plt.ylabel('Prob')\n",
    "plt.title('PDF of Exponential')\n",
    "plt.show()"
   ]
  },
  {
   "cell_type": "code",
   "execution_count": 41,
   "metadata": {},
   "outputs": [
    {
     "data": {
      "image/png": "[encoded data removed]",
      "text/plain": [
       "<Figure size 432x288 with 1 Axes>"
      ]
     },
     "metadata": {
      "needs_background": "light"
     },
     "output_type": "display_data"
    }
   ],
   "source": [
    "data_expon = expon.rvs(size=5000)\n",
    "plt.hist(data_expon,bins=20) # add color='green',bins=20\n",
    "plt.xlabel('x')\n",
    "plt.ylabel('Freq')\n",
    "plt.title('histogram')\n",
    "plt.show()"
   ]
  },
  {
   "cell_type": "code",
   "execution_count": null,
   "metadata": {},
   "outputs": [],
   "source": []
  },
  {
   "cell_type": "markdown",
   "metadata": {},
   "source": [
    "# Uniform distribution"
   ]
  },
  {
   "cell_type": "code",
   "execution_count": 42,
   "metadata": {},
   "outputs": [],
   "source": [
    "from scipy.stats import uniform"
   ]
  },
  {
   "cell_type": "code",
   "execution_count": 57,
   "metadata": {},
   "outputs": [
    {
     "data": {
      "text/plain": [
       "array([10.        , 10.05050505, 10.1010101 , 10.15151515, 10.2020202 ,\n",
       "       10.25252525, 10.3030303 , 10.35353535, 10.4040404 , 10.45454545,\n",
       "       10.50505051, 10.55555556, 10.60606061, 10.65656566, 10.70707071,\n",
       "       10.75757576, 10.80808081, 10.85858586, 10.90909091, 10.95959596,\n",
       "       11.01010101, 11.06060606, 11.11111111, 11.16161616, 11.21212121,\n",
       "       11.26262626, 11.31313131, 11.36363636, 11.41414141, 11.46464646,\n",
       "       11.51515152, 11.56565657, 11.61616162, 11.66666667, 11.71717172,\n",
       "       11.76767677, 11.81818182, 11.86868687, 11.91919192, 11.96969697,\n",
       "       12.02020202, 12.07070707, 12.12121212, 12.17171717, 12.22222222,\n",
       "       12.27272727, 12.32323232, 12.37373737, 12.42424242, 12.47474747,\n",
       "       12.52525253, 12.57575758, 12.62626263, 12.67676768, 12.72727273,\n",
       "       12.77777778, 12.82828283, 12.87878788, 12.92929293, 12.97979798,\n",
       "       13.03030303, 13.08080808, 13.13131313, 13.18181818, 13.23232323,\n",
       "       13.28282828, 13.33333333, 13.38383838, 13.43434343, 13.48484848,\n",
       "       13.53535354, 13.58585859, 13.63636364, 13.68686869, 13.73737374,\n",
       "       13.78787879, 13.83838384, 13.88888889, 13.93939394, 13.98989899,\n",
       "       14.04040404, 14.09090909, 14.14141414, 14.19191919, 14.24242424,\n",
       "       14.29292929, 14.34343434, 14.39393939, 14.44444444, 14.49494949,\n",
       "       14.54545455, 14.5959596 , 14.64646465, 14.6969697 , 14.74747475,\n",
       "       14.7979798 , 14.84848485, 14.8989899 , 14.94949495, 15.        ])"
      ]
     },
     "execution_count": 57,
     "metadata": {},
     "output_type": "execute_result"
    }
   ],
   "source": [
    "x=np.linspace(10,15,100)\n",
    "x"
   ]
  },
  {
   "cell_type": "code",
   "execution_count": 58,
   "metadata": {},
   "outputs": [
    {
     "data": {
      "text/plain": [
       "array([0., 0., 0., 0., 0., 0., 0., 0., 0., 0., 0., 0., 0., 0., 0., 0., 0.,\n",
       "       0., 0., 0., 0., 0., 0., 0., 0., 0., 0., 0., 0., 0., 0., 0., 0., 0.,\n",
       "       0., 0., 0., 0., 0., 0., 0., 0., 0., 0., 0., 0., 0., 0., 0., 0., 0.,\n",
       "       0., 0., 0., 0., 0., 0., 0., 0., 0., 0., 0., 0., 0., 0., 0., 0., 0.,\n",
       "       0., 0., 0., 0., 0., 0., 0., 0., 0., 0., 0., 0., 0., 0., 0., 0., 0.,\n",
       "       0., 0., 0., 0., 0., 0., 0., 0., 0., 0., 0., 0., 0., 0., 0.])"
      ]
     },
     "execution_count": 58,
     "metadata": {},
     "output_type": "execute_result"
    }
   ],
   "source": [
    "uniform.pdf(x)"
   ]
  },
  {
   "cell_type": "code",
   "execution_count": 59,
   "metadata": {},
   "outputs": [
    {
     "data": {
      "text/plain": [
       "array([1., 1., 1., 1., 1., 1., 1., 1., 1., 1., 1., 1., 1., 1., 1., 1., 1.,\n",
       "       1., 1., 1., 1., 1., 1., 1., 1., 1., 1., 1., 1., 1., 1., 1., 1., 1.,\n",
       "       1., 1., 1., 1., 1., 1., 1., 1., 1., 1., 1., 1., 1., 1., 1., 1., 1.,\n",
       "       1., 1., 1., 1., 1., 1., 1., 1., 1., 1., 1., 1., 1., 1., 1., 1., 1.,\n",
       "       1., 1., 1., 1., 1., 1., 1., 1., 1., 1., 1., 1., 1., 1., 1., 1., 1.,\n",
       "       1., 1., 1., 1., 1., 1., 1., 1., 1., 1., 1., 1., 1., 1., 1.])"
      ]
     },
     "execution_count": 59,
     "metadata": {},
     "output_type": "execute_result"
    }
   ],
   "source": [
    "uniform.cdf(x)"
   ]
  },
  {
   "cell_type": "code",
   "execution_count": 60,
   "metadata": {},
   "outputs": [
    {
     "name": "stdout",
     "output_type": "stream",
     "text": [
      "7.0\n",
      "1.3333333333333333\n",
      "0.0\n",
      "-1.2\n"
     ]
    }
   ],
   "source": [
    "start=5\n",
    "width=4\n",
    "mean, var, skew, kurt = uniform.stats(loc=start,scale=width, moments='mvsk')\n",
    "print(mean)\n",
    "print(var)\n",
    "print(skew)\n",
    "print(kurt)"
   ]
  },
  {
   "cell_type": "code",
   "execution_count": 61,
   "metadata": {},
   "outputs": [
    {
     "data": {
      "text/plain": [
       "array([0.85290869, 0.88380711, 0.71541195, 0.59201182, 0.96174182,\n",
       "       0.91148441, 0.186086  , 0.00442098, 0.75850977, 0.35063487])"
      ]
     },
     "execution_count": 61,
     "metadata": {},
     "output_type": "execute_result"
    }
   ],
   "source": [
    "uniform.rvs(size=10)"
   ]
  },
  {
   "cell_type": "code",
   "execution_count": 62,
   "metadata": {},
   "outputs": [
    {
     "data": {
      "image/png": "[encoded data removed]",
      "text/plain": [
       "<Figure size 432x288 with 1 Axes>"
      ]
     },
     "metadata": {
      "needs_background": "light"
     },
     "output_type": "display_data"
    }
   ],
   "source": [
    "plt.plot(x,uniform.pdf(x,loc=0,scale=1))#,\"o-\",marker='s')\n",
    "plt.xlabel('x')\n",
    "plt.ylabel('Prob')\n",
    "plt.title('PDF of Uniform')\n",
    "plt.show()"
   ]
  },
  {
   "cell_type": "code",
   "execution_count": 66,
   "metadata": {},
   "outputs": [
    {
     "data": {
      "image/png": "[encoded data removed]",
      "text/plain": [
       "<Figure size 432x288 with 1 Axes>"
      ]
     },
     "metadata": {
      "needs_background": "light"
     },
     "output_type": "display_data"
    }
   ],
   "source": [
    "data_uniform = uniform.rvs(size=50000)\n",
    "plt.hist(data_uniform,bins=100) # add color='green',bins=20\n",
    "plt.xlabel('x')\n",
    "plt.ylabel('Freq')\n",
    "plt.title('histogram')\n",
    "plt.show()"
   ]
  },
  {
   "cell_type": "code",
   "execution_count": null,
   "metadata": {},
   "outputs": [],
   "source": []
  }
 ],
 "metadata": {
  "kernelspec": {
   "display_name": "Python 3",
   "language": "python",
   "name": "python3"
  },
  "language_info": {
   "codemirror_mode": {
    "name": "ipython",
    "version": 3
   },
   "file_extension": ".py",
   "mimetype": "text/x-python",
   "name": "python",
   "nbconvert_exporter": "python",
   "pygments_lexer": "ipython3",
   "version": "3.8.8"
  }
 },
 "nbformat": 4,
 "nbformat_minor": 2
}
